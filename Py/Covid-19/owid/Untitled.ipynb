{
 "cells": [
  {
   "cell_type": "code",
   "execution_count": 1,
   "id": "e06504c0",
   "metadata": {},
   "outputs": [
    {
     "data": {
      "text/html": [
       "<style> .container { width: 100% } </style>"
      ],
      "text/plain": [
       "<IPython.core.display.HTML object>"
      ]
     },
     "metadata": {},
     "output_type": "display_data"
    }
   ],
   "source": [
    "from IPython.core.display import display, HTML\n",
    "display(HTML(\"<style> .container { width: 100% } </style>\"))"
   ]
  },
  {
   "cell_type": "code",
   "execution_count": 2,
   "id": "60964ebc",
   "metadata": {},
   "outputs": [],
   "source": [
    "import pandas as pd"
   ]
  },
  {
   "cell_type": "code",
   "execution_count": 3,
   "id": "ac2a0576",
   "metadata": {},
   "outputs": [],
   "source": [
    "df = pd.read_json('https://raw.githubusercontent.com/owid/covid-19-data/master/public/data/owid-covid-data.json')"
   ]
  },
  {
   "cell_type": "markdown",
   "id": "0f00a850",
   "metadata": {},
   "source": [
    "### Отсеим страны с населением меньше 15 000 000 человек"
   ]
  },
  {
   "cell_type": "code",
   "execution_count": 4,
   "id": "e959591b",
   "metadata": {},
   "outputs": [],
   "source": [
    "df_filtered = df.T[\n",
    "    (df.T.continent.apply(lambda continent: isinstance(continent, str)))\n",
    "    & (df.T.population > 15_000_000)\n",
    "].T"
   ]
  },
  {
   "cell_type": "code",
   "execution_count": 10,
   "id": "d0b21584",
   "metadata": {},
   "outputs": [
    {
     "data": {
      "text/html": [
       "<div>\n",
       "<style scoped>\n",
       "    .dataframe tbody tr th:only-of-type {\n",
       "        vertical-align: middle;\n",
       "    }\n",
       "\n",
       "    .dataframe tbody tr th {\n",
       "        vertical-align: top;\n",
       "    }\n",
       "\n",
       "    .dataframe thead th {\n",
       "        text-align: right;\n",
       "    }\n",
       "</style>\n",
       "<table border=\"1\" class=\"dataframe\">\n",
       "  <thead>\n",
       "    <tr style=\"text-align: right;\">\n",
       "      <th></th>\n",
       "      <th>AFG</th>\n",
       "      <th>DZA</th>\n",
       "      <th>AGO</th>\n",
       "      <th>ARG</th>\n",
       "      <th>AUS</th>\n",
       "      <th>BGD</th>\n",
       "      <th>BRA</th>\n",
       "      <th>BFA</th>\n",
       "      <th>KHM</th>\n",
       "      <th>CMR</th>\n",
       "      <th>...</th>\n",
       "      <th>UGA</th>\n",
       "      <th>UKR</th>\n",
       "      <th>GBR</th>\n",
       "      <th>USA</th>\n",
       "      <th>UZB</th>\n",
       "      <th>VEN</th>\n",
       "      <th>VNM</th>\n",
       "      <th>YEM</th>\n",
       "      <th>ZMB</th>\n",
       "      <th>ZWE</th>\n",
       "    </tr>\n",
       "  </thead>\n",
       "  <tbody>\n",
       "    <tr>\n",
       "      <th>continent</th>\n",
       "      <td>Asia</td>\n",
       "      <td>Africa</td>\n",
       "      <td>Africa</td>\n",
       "      <td>South America</td>\n",
       "      <td>Oceania</td>\n",
       "      <td>Asia</td>\n",
       "      <td>South America</td>\n",
       "      <td>Africa</td>\n",
       "      <td>Asia</td>\n",
       "      <td>Africa</td>\n",
       "      <td>...</td>\n",
       "      <td>Africa</td>\n",
       "      <td>Europe</td>\n",
       "      <td>Europe</td>\n",
       "      <td>North America</td>\n",
       "      <td>Asia</td>\n",
       "      <td>South America</td>\n",
       "      <td>Asia</td>\n",
       "      <td>Asia</td>\n",
       "      <td>Africa</td>\n",
       "      <td>Africa</td>\n",
       "    </tr>\n",
       "    <tr>\n",
       "      <th>location</th>\n",
       "      <td>Afghanistan</td>\n",
       "      <td>Algeria</td>\n",
       "      <td>Angola</td>\n",
       "      <td>Argentina</td>\n",
       "      <td>Australia</td>\n",
       "      <td>Bangladesh</td>\n",
       "      <td>Brazil</td>\n",
       "      <td>Burkina Faso</td>\n",
       "      <td>Cambodia</td>\n",
       "      <td>Cameroon</td>\n",
       "      <td>...</td>\n",
       "      <td>Uganda</td>\n",
       "      <td>Ukraine</td>\n",
       "      <td>United Kingdom</td>\n",
       "      <td>United States</td>\n",
       "      <td>Uzbekistan</td>\n",
       "      <td>Venezuela</td>\n",
       "      <td>Vietnam</td>\n",
       "      <td>Yemen</td>\n",
       "      <td>Zambia</td>\n",
       "      <td>Zimbabwe</td>\n",
       "    </tr>\n",
       "    <tr>\n",
       "      <th>population</th>\n",
       "      <td>39835428.0</td>\n",
       "      <td>44616626.0</td>\n",
       "      <td>33933611.0</td>\n",
       "      <td>45605823.0</td>\n",
       "      <td>25788217.0</td>\n",
       "      <td>166303494.0</td>\n",
       "      <td>213993441.0</td>\n",
       "      <td>21497097.0</td>\n",
       "      <td>16946446.0</td>\n",
       "      <td>27224262.0</td>\n",
       "      <td>...</td>\n",
       "      <td>47123533.0</td>\n",
       "      <td>43466822.0</td>\n",
       "      <td>68207114.0</td>\n",
       "      <td>332915074.0</td>\n",
       "      <td>33935765.0</td>\n",
       "      <td>28704947.0</td>\n",
       "      <td>98168829.0</td>\n",
       "      <td>30490639.0</td>\n",
       "      <td>18920657.0</td>\n",
       "      <td>15092171.0</td>\n",
       "    </tr>\n",
       "    <tr>\n",
       "      <th>population_density</th>\n",
       "      <td>54.422</td>\n",
       "      <td>17.348</td>\n",
       "      <td>23.89</td>\n",
       "      <td>16.177</td>\n",
       "      <td>3.202</td>\n",
       "      <td>1265.036</td>\n",
       "      <td>25.04</td>\n",
       "      <td>70.151</td>\n",
       "      <td>90.672</td>\n",
       "      <td>50.885</td>\n",
       "      <td>...</td>\n",
       "      <td>213.759</td>\n",
       "      <td>77.39</td>\n",
       "      <td>272.898</td>\n",
       "      <td>35.608</td>\n",
       "      <td>76.134</td>\n",
       "      <td>36.253</td>\n",
       "      <td>308.127</td>\n",
       "      <td>53.508</td>\n",
       "      <td>22.995</td>\n",
       "      <td>42.729</td>\n",
       "    </tr>\n",
       "    <tr>\n",
       "      <th>median_age</th>\n",
       "      <td>18.6</td>\n",
       "      <td>29.1</td>\n",
       "      <td>16.8</td>\n",
       "      <td>31.9</td>\n",
       "      <td>37.9</td>\n",
       "      <td>27.5</td>\n",
       "      <td>33.5</td>\n",
       "      <td>17.6</td>\n",
       "      <td>25.6</td>\n",
       "      <td>18.8</td>\n",
       "      <td>...</td>\n",
       "      <td>16.4</td>\n",
       "      <td>41.4</td>\n",
       "      <td>40.8</td>\n",
       "      <td>38.3</td>\n",
       "      <td>28.2</td>\n",
       "      <td>29.0</td>\n",
       "      <td>32.6</td>\n",
       "      <td>20.3</td>\n",
       "      <td>17.7</td>\n",
       "      <td>19.6</td>\n",
       "    </tr>\n",
       "  </tbody>\n",
       "</table>\n",
       "<p>5 rows × 73 columns</p>\n",
       "</div>"
      ],
      "text/plain": [
       "                            AFG         DZA         AGO            ARG  \\\n",
       "continent                  Asia      Africa      Africa  South America   \n",
       "location            Afghanistan     Algeria      Angola      Argentina   \n",
       "population           39835428.0  44616626.0  33933611.0     45605823.0   \n",
       "population_density       54.422      17.348       23.89         16.177   \n",
       "median_age                 18.6        29.1        16.8           31.9   \n",
       "\n",
       "                           AUS          BGD            BRA           BFA  \\\n",
       "continent              Oceania         Asia  South America        Africa   \n",
       "location             Australia   Bangladesh         Brazil  Burkina Faso   \n",
       "population          25788217.0  166303494.0    213993441.0    21497097.0   \n",
       "population_density       3.202     1265.036          25.04        70.151   \n",
       "median_age                37.9         27.5           33.5          17.6   \n",
       "\n",
       "                           KHM         CMR  ...         UGA         UKR  \\\n",
       "continent                 Asia      Africa  ...      Africa      Europe   \n",
       "location              Cambodia    Cameroon  ...      Uganda     Ukraine   \n",
       "population          16946446.0  27224262.0  ...  47123533.0  43466822.0   \n",
       "population_density      90.672      50.885  ...     213.759       77.39   \n",
       "median_age                25.6        18.8  ...        16.4        41.4   \n",
       "\n",
       "                               GBR            USA         UZB            VEN  \\\n",
       "continent                   Europe  North America        Asia  South America   \n",
       "location            United Kingdom  United States  Uzbekistan      Venezuela   \n",
       "population              68207114.0    332915074.0  33935765.0     28704947.0   \n",
       "population_density         272.898         35.608      76.134         36.253   \n",
       "median_age                    40.8           38.3        28.2           29.0   \n",
       "\n",
       "                           VNM         YEM         ZMB         ZWE  \n",
       "continent                 Asia        Asia      Africa      Africa  \n",
       "location               Vietnam       Yemen      Zambia    Zimbabwe  \n",
       "population          98168829.0  30490639.0  18920657.0  15092171.0  \n",
       "population_density     308.127      53.508      22.995      42.729  \n",
       "median_age                32.6        20.3        17.7        19.6  \n",
       "\n",
       "[5 rows x 73 columns]"
      ]
     },
     "execution_count": 10,
     "metadata": {},
     "output_type": "execute_result"
    }
   ],
   "source": [
    "df_filtered.head(5)"
   ]
  },
  {
   "cell_type": "markdown",
   "id": "6dee65b1",
   "metadata": {},
   "source": [
    "### Проитерируемся по df_filtered"
   ]
  },
  {
   "cell_type": "code",
   "execution_count": 20,
   "id": "5a0e5d36",
   "metadata": {},
   "outputs": [],
   "source": [
    "for country in df_filtered:\n",
    "    data = pd.DataFrame.from_dict(df_filtered[country].data)"
   ]
  },
  {
   "cell_type": "markdown",
   "id": "43c616ee",
   "metadata": {},
   "source": [
    "### Новые колонки в датафрейме"
   ]
  },
  {
   "cell_type": "code",
   "execution_count": 21,
   "id": "c6c22612",
   "metadata": {},
   "outputs": [],
   "source": [
    "column = 'new_cases'\n",
    "minus = column + '_shift_minus'\n",
    "plus = column + '_shift_plus'\n",
    "data.loc[:, minus] = data[column].shift(-1)\n",
    "data.loc[:, plus] = data[column].shift(1)"
   ]
  },
  {
   "cell_type": "code",
   "execution_count": 26,
   "id": "08b1a1b0",
   "metadata": {},
   "outputs": [],
   "source": [
    "diff = 3\n",
    "data = data.loc[(data['new_cases'].ge(100))\n",
    "                & (((data[minus] - data[column]).abs() < diff) | ((data[plus] - data[column]).abs() < diff))\n",
    "               ]"
   ]
  },
  {
   "cell_type": "code",
   "execution_count": 27,
   "id": "ffa5236e",
   "metadata": {},
   "outputs": [],
   "source": [
    "series_days_length = data.shape[0]"
   ]
  }
 ],
 "metadata": {
  "kernelspec": {
   "display_name": "Python 3",
   "language": "python",
   "name": "python3"
  },
  "language_info": {
   "codemirror_mode": {
    "name": "ipython",
    "version": 3
   },
   "file_extension": ".py",
   "mimetype": "text/x-python",
   "name": "python",
   "nbconvert_exporter": "python",
   "pygments_lexer": "ipython3",
   "version": "3.9.7"
  }
 },
 "nbformat": 4,
 "nbformat_minor": 5
}
